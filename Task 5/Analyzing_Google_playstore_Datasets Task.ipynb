{
  "cells": [
    {
      "cell_type": "code",
      "execution_count": 1,
      "id": "e84ad7e1-7e98-4ec3-bc65-a09b269797f4",
      "metadata": {},
      "outputs": [],
      "source": [
        "import pandas as pd"
      ]
    },
    {
      "cell_type": "code",
      "execution_count": 2,
      "id": "d9d24421-b9dc-4faf-bba1-7866b4a8948f",
      "metadata": {},
      "outputs": [],
      "source": [
        "# loading the app datasets\n",
        "app_data = pd.read_csv(r\"C:\\Users\\DELL\\Downloads\\apps work.csv\")"
      ]
    },
    {
      "cell_type": "code",
      "execution_count": 3,
      "id": "60e29924-5bd5-430f-a294-ffb6d5df14a8",
      "metadata": {},
      "outputs": [],
      "source": [
        "app_data"
      ]
    },
    {
      "cell_type": "code",
      "execution_count": 4,
      "id": "c3ff7589-43b5-4efc-9dd8-f800c753c146",
      "metadata": {},
      "outputs": [],
      "source": [
        "# Check data types and structure\n",
        "print(app_data.head())\n",
        "print(app_data.info())"
      ]
    },
    {
      "cell_type": "code",
      "execution_count": 5,
      "id": "c8e8b82d-31e5-4dfc-96fe-590c77c6cdf3",
      "metadata": {},
      "outputs": [],
      "source": [
        "# Checking data for missing values\n",
        "print(app_data.isnull().sum())"
      ]
    },
    {
      "cell_type": "code",
      "execution_count": 6,
      "id": "1df14523-06aa-4af0-bfe6-8f79601075c7",
      "metadata": {},
      "outputs": [],
      "source": [
        "# handling missing value by dropping the rows\n",
        "app_data = app_data.dropna(subset = ['Rating'])\n",
        "app_data = app_data.dropna(subset = ['Size'])\n",
        "app_data = app_data.dropna(subset = ['Current Ver'])\n",
        "app_data = app_data.dropna(subset = ['Android Ver'])"
      ]
    },
    {
      "cell_type": "code",
      "execution_count": 7,
      "id": "a3e48afc-da7a-47a6-b7ca-978b5bd5b6ce",
      "metadata": {},
      "outputs": [],
      "source": [
        "print(app_data.isnull().sum())"
      ]
    },
    {
      "cell_type": "code",
      "execution_count": 8,
      "id": "11c790c7-f5aa-40ba-a89e-2abffb42b91a",
      "metadata": {},
      "outputs": [],
      "source": [
        "duplicates = app_data.duplicated()\n",
        "print(duplicates)"
      ]
    },
    {
      "cell_type": "code",
      "execution_count": 9,
      "id": "aefc8697-be05-4354-9cb9-5689e3398b8b",
      "metadata": {},
      "outputs": [],
      "source": [
        "unique_rows = app_data.drop_duplicates()\n",
        "print(unique_rows)"
      ]
    },
    {
      "cell_type": "code",
      "execution_count": 10,
      "id": "85c7bd41-039e-4905-9fae-16909ff41e9e",
      "metadata": {},
      "outputs": [],
      "source": [
        "# Clean 'Installs' column to remove commas and '+' and convert to integers\n",
        "app_data['Installs'] = app_data['Installs'].str.replace('[+,]', '', regex=True).astype(int)"
      ]
    },
    {
      "cell_type": "code",
      "execution_count": 11,
      "id": "40d77bdf-ed20-48db-b084-200f4fd90452",
      "metadata": {},
      "outputs": [],
      "source": [
        "print(app_data['Installs'])"
      ]
    },
    {
      "cell_type": "code",
      "execution_count": 12,
      "id": "b542d8d8-d18f-4e18-8ade-6af0eaeef3dc",
      "metadata": {},
      "outputs": [],
      "source": [
        "# Check for NaN values in the entire DataFrame\n",
        "print(app_data.isna())\n",
        "print(app_data.isna().sum().sum())"
      ]
    },
    {
      "cell_type": "code",
      "execution_count": 13,
      "id": "270e28cd-3970-4efe-b69b-639fdf0e32d7",
      "metadata": {},
      "outputs": [],
      "source": [
        "print(app_data['Price'])"
      ]
    },
    {
      "cell_type": "code",
      "execution_count": 14,
      "id": "7f30063f-f8c0-44fa-83d0-7c5930a8b575",
      "metadata": {},
      "outputs": [],
      "source": [
        "# Convert 'Price' column to string, remove '$', and then convert to float\n",
        "app_data['Price'] = app_data['Price'].astype(str).str.replace('$','',regex=True)"
      ]
    },
    {
      "cell_type": "code",
      "execution_count": 15,
      "id": "b051af37-3af1-43fd-80cc-096c3412f182",
      "metadata": {},
      "outputs": [],
      "source": [
        "# Convert string to numeric\n",
        "app_data['Price'] = pd.to_numeric(app_data['Price'], errors='coerce')"
      ]
    },
    {
      "cell_type": "code",
      "execution_count": 16,
      "id": "e587b36a-dd9d-4ade-8fa7-5bf2c01d50a1",
      "metadata": {},
      "outputs": [],
      "source": [
        "print(app_data['Price'])"
      ]
    },
    {
      "cell_type": "code",
      "execution_count": 17,
      "id": "01b0ef92-e9b4-48b0-a7ec-16ba8beeca9c",
      "metadata": {},
      "outputs": [],
      "source": [
        "# Replace non-numeric sizes\n",
        "app_data['Size'] = app_data['Size'].replace('Varies with device', None)"
      ]
    },
    {
      "cell_type": "code",
      "execution_count": 18,
      "id": "b2ce775a-187b-433b-b285-96236686e6db",
      "metadata": {},
      "outputs": [],
      "source": [
        "#  Clean 'Size' column and convert kb to mb\n",
        "app_data['Size'] = app_data['Size'].astype(str).str.replace('M','', regex=False).str.replace('K','',regex=False)"
      ]
    },
    {
      "cell_type": "code",
      "execution_count": 19,
      "id": "22623040-4323-4c63-a0d0-12d70bd5488c",
      "metadata": {},
      "outputs": [],
      "source": [
        "# Convert to numeric and then to integers\n",
        "app_data['Size'] = pd.to_numeric(app_data['Size'], errors='coerce').astype(int)"
      ]
    },
    {
      "cell_type": "code",
      "execution_count": 20,
      "id": "a30d1c00-aaf1-47c9-9f57-b4aaf23bec0e",
      "metadata": {},
      "outputs": [],
      "source": [
        "print(app_data['Size'])"
      ]
    },
    {
      "cell_type": "code",
      "execution_count": 21,
      "id": "f76da86e-4646-4abe-bf08-9b77e888bbc3",
      "metadata": {},
      "outputs": [],
      "source": [
        "# Investigating app distribution across categories. \n",
        "category_distribution = app_data.groupby('Category')['App'].count().reset_index()"
      ]
    },
    {
      "cell_type": "code",
      "execution_count": 22,
      "id": "2d4c02ee-4717-4b01-8222-ee327def6f2a",
      "metadata": {},
      "outputs": [],
      "source": [
        "# Export to CSV for Power BI visualization\n",
        "category_distribution.to_csv('category_distribution1.csv', index=False)"
      ]
    },
    {
      "cell_type": "code",
      "execution_count": 23,
      "id": "8adaedfd-d7ae-46dd-931c-529114f89153",
      "metadata": {},
      "outputs": [],
      "source": [
        "category_distribution"
      ]
    },
    {
      "cell_type": "code",
      "execution_count": 24,
      "id": "4190e675-053c-483e-bc31-686dad97ebb9",
      "metadata": {},
      "outputs": [],
      "source": [
        "category_distribution = app_data.groupby('Category')['App'].count().plot(kind='bar', figsize=(10, 6), title='Distribution of Apps across Categories')"
      ]
    },
    {
      "cell_type": "code",
      "execution_count": 25,
      "id": "94330275-68ce-4d2e-9756-7de5ec8f7fb9",
      "metadata": {},
      "outputs": [],
      "source": [
        "print(\"File saved successfully as 'category_distribution1.csv'\")"
      ]
    },
    {
      "cell_type": "code",
      "execution_count": 26,
      "id": "96e94ce5-5ef4-4f24-a068-1e85ff89729e",
      "metadata": {},
      "outputs": [],
      "source": [
        "# Calculate average rating by category\n",
        "Average_ratings = app_data.groupby('Category')['Rating'].mean().reset_index()"
      ]
    },
    {
      "cell_type": "code",
      "execution_count": 27,
      "id": "fc5f9ce3-21a1-4931-acb0-9d336fa3a77c",
      "metadata": {},
      "outputs": [],
      "source": [
        "# Export to CSV for Power BI visualization\n",
        "Average_ratings.to_csv('Average_ratings.csv1', index=False)"
      ]
    },
    {
      "cell_type": "code",
      "execution_count": 28,
      "id": "7c620f6f-d583-4191-a83e-71652dc582d6",
      "metadata": {},
      "outputs": [],
      "source": [
        "Average_ratings"
      ]
    },
    {
      "cell_type": "code",
      "execution_count": 29,
      "id": "6387410a-e7dd-40de-a49c-3d20c81bd41c",
      "metadata": {},
      "outputs": [],
      "source": [
        "Average_ratings = app_data.groupby('Category')['Rating'].mean().plot(kind='bar', figsize=(10, 6),title='Average Rating by Category')"
      ]
    },
    {
      "cell_type": "code",
      "execution_count": 30,
      "id": "a8d778fa-d258-4a42-a1d2-d6073d7858e8",
      "metadata": {},
      "outputs": [],
      "source": [
        "import seaborn as sns\n",
        "# Analyzing patterns between metrics (Ratings vs Size)\n",
        "sns.scatterplot(data = app_data, x='Size', y='Rating')"
      ]
    },
    {
      "cell_type": "code",
      "execution_count": 31,
      "id": "c32cffff-b754-411a-bccb-19909c97022e",
      "metadata": {},
      "outputs": [],
      "source": [
        "# Analyzing patterns between price and ratings\n",
        "sns.boxplot(data = app_data, x='Price', y='Rating')"
      ]
    },
    {
      "cell_type": "code",
      "execution_count": 32,
      "id": "47137bbe-077c-4e5f-901a-794f54f73dad",
      "metadata": {},
      "outputs": [],
      "source": [
        "# Analyze the distribution of app prices (e.g., free vs paid)\n",
        "price_distribution = app_data['Type'].value_counts()\n",
        "price_distribution.plot(kind='bar', figsize=(8, 6), title='Distributin of App Prices')"
      ]
    },
    {
      "cell_type": "code",
      "execution_count": 33,
      "id": "9538f343-a2a5-4993-8e2d-8301aaede64a",
      "metadata": {},
      "outputs": [],
      "source": [
        "# import matplotlib.pyplot as plt\n",
        "\n",
        "# Count free and paid apps from the 'Type' column\n",
        "type_distribution = app_data['Type'].value_counts()\n",
        "\n",
        "# plot the distribution\n",
        "type_distribution.plot(kind='pie', autopct='%1.1f%%', color=['skyblue','orange'], figsize=(8, 6), title='Free vs Paid Apps')"
      ]
    },
    {
      "cell_type": "code",
      "execution_count": 34,
      "id": "9feb757f-8812-4c73-bcee-d874b3cfa6fb",
      "metadata": {},
      "outputs": [],
      "source": [
        "# Interactive Visualization with Plotly\n",
        "import plotly.express as px\n",
        "fig = px.scatter(app_data, x='Size', y='Rating', color='Category', title='App Ratings vs Size')\n",
        "fig.show()"
      ]
    },
    {
      "cell_type": "code",
      "execution_count": 35,
      "id": "659292e5-b503-428b-93ab-78c10314d375",
      "metadata": {},
      "outputs": [],
      "source": [
        "# Analyze size trends\n",
        "size_trend = app_data.groupby('Category')['Size'].mean().reset_index()"
      ]
    },
    {
      "cell_type": "code",
      "execution_count": 36,
      "id": "34e56df5-bd11-4162-8700-a169a6b1c9f3",
      "metadata": {},
      "outputs": [],
      "source": [
        "# Export to CSV for Power BI visualization\n",
        "size_trend.to_csv('size_trend.csv1', index=False)"
      ]
    },
    {
      "cell_type": "code",
      "execution_count": 37,
      "id": "98e2fe06-f2bb-49f3-b62c-c72d62636b6c",
      "metadata": {},
      "outputs": [],
      "source": [
        "print(\"File saved successfully as 'size_trend.csv'\")"
      ]
    },
    {
      "cell_type": "code",
      "execution_count": 38,
      "id": "8688ce4c-13a2-460b-b2f2-6d4132d20b9a",
      "metadata": {},
      "outputs": [],
      "source": [
        "size_trend"
      ]
    },
    {
      "cell_type": "code",
      "execution_count": 39,
      "id": "4fc915c8-6ee3-4e91-a56e-c8fc6066c30d",
      "metadata": {},
      "outputs": [],
      "source": [
        "# Analyzing pricing trends\n",
        "price_trend = app_data.groupby('Category')['Price'].mean().reset_index()"
      ]
    },
    {
      "cell_type": "code",
      "execution_count": 40,
      "id": "ffa9919e-f583-40f3-83d8-f54047c511a5",
      "metadata": {},
      "outputs": [],
      "source": [
        "# Export to CSV for Power BI visualization\n",
        "price_trend.to_csv('price_trend.csv1', index=False)"
      ]
    },
    {
      "cell_type": "code",
      "execution_count": 41,
      "id": "6a0c22c0-ac6e-4daa-a3cf-f1f56f17c0d6",
      "metadata": {},
      "outputs": [],
      "source": [
        "import pandas as pd\n",
        "\n",
        "# Load the dataset\n",
        "user_reviews = pd.read_csv(r'C:\\Users\\DELL\\Downloads\\user_reviews.csv')\n",
        "\n",
        "# Inspect the dataset\n",
        "print(user_reviews.head())\n",
        "print(user_reviews.info())"
      ]
    },
    {
      "cell_type": "code",
      "execution_count": 42,
      "id": "cf1b6c41-8d9b-42bc-9a52-f98054ca7714",
      "metadata": {},
      "outputs": [],
      "source": [
        "user_reviews.isnull().values.any()"
      ]
    },
    {
      "cell_type": "code",
      "execution_count": 43,
      "id": "89431b9a-99eb-4d9a-87c1-749995d2eb4b",
      "metadata": {},
      "outputs": [],
      "source": [
        "# Inspect the dataset for any missing value\n",
        "print(user_reviews.isnull().sum())\n",
        "print(user_reviews.isna().sum())"
      ]
    },
    {
      "cell_type": "code",
      "execution_count": 44,
      "id": "6fcf9045-bfec-4a17-bee9-61723e9d8b71",
      "metadata": {},
      "outputs": [],
      "source": [
        "# drop rows with missing value\n",
        "user_reviews = user_reviews.dropna(subset=['Translated_Review', 'Sentiment', 'Sentiment_Polarity', 'Sentiment_Subjectivity'])\n",
        "\n",
        "# Rename 'Translated_Review' to 'Review'\n",
        "user_reviews.rename(columns={'Translated_Review':'Review'}, inplace=True)"
      ]
    },
    {
      "cell_type": "code",
      "execution_count": 45,
      "id": "e3225949-ca2f-472b-be16-5d5781b7f9b6",
      "metadata": {},
      "outputs": [],
      "source": [
        "# save cleaned user_reviews dataset\n",
        "user_reviews.to_csv('Cleaned_user_reviews.csv', index=False)"
      ]
    },
    {
      "cell_type": "code",
      "execution_count": 46,
      "id": "da0139bc-de69-423f-97c8-7df1d55e79fc",
      "metadata": {},
      "outputs": [],
      "source": [
        "# Import necessary libraries\n",
        "import matplotlib.pyplot as plt\n",
        "import seaborn as sns\n",
        "from textblob import TextBlob\n",
        "from nltk.corpus import stopwords\n",
        "from nltk.tokenize import word_tokenize\n",
        "import string\n",
        "import nltk\n",
        "\n",
        "# Download necessary NLTK resources\n",
        "nltk.download('punkt')\n",
        "nltk.download('stopwords')  # Corrected from 'stopword'\n",
        "\n",
        "# Define a function for text preprocessing\n",
        "def preprocess_text(text):\n",
        "    # Ensure review (text) is a string before applying string operations\n",
        "    if not isinstance(text, str):\n",
        "        text = str(text)  # Proper indentation for this line\n",
        "    \n",
        "    # Convert to lowercase\n",
        "    text = text.lower()\n",
        "    \n",
        "    # Remove punctuation\n",
        "    text = text.translate(str.maketrans('', '', string.punctuation))\n",
        "    \n",
        "    # Tokenize text\n",
        "    tokens = word_tokenize(text)\n",
        "    \n",
        "    # Remove stopwords\n",
        "    stop_words = set(stopwords.words('english'))\n",
        "    tokens = [word for word in tokens if word not in stop_words]\n",
        "    \n",
        "    # Rejoin tokens\n",
        "    return ' '.join(tokens)\n",
        "\n",
        "# Apply preprocessing to reviews\n",
        "user_reviews['Processed_Reviews'] = user_reviews['Review'].apply(preprocess_text)"
      ]
    },
    {
      "cell_type": "code",
      "execution_count": 47,
      "id": "38df55af-cd5b-4053-b375-def9cbf87749",
      "metadata": {},
      "outputs": [],
      "source": [
        "user_reviews['Processed_Reviews']"
      ]
    },
    {
      "cell_type": "code",
      "execution_count": 48,
      "id": "54d2bcbf-c6a4-4f35-8c19-dd8733b9ae18",
      "metadata": {},
      "outputs": [],
      "source": [
        "# Define a function to compute sentiment\n",
        "def compute_sentiment(text):\n",
        "    Analysis = TextBlob(text)\n",
        "    return Analysis.Polarity, Analysis.subjectivity\n",
        "\n",
        "# Apply sentiment computation\n",
        "user_reviews['Computed_Polarity'], user_reviews['Computed_Subjectivity'] = \\\n",
        "    zip(*user_reviews['Processed_Reviews'].apply(\n",
        "        lambda x: (TextBlob(x).sentiment.polarity, TextBlob(x).sentiment.subjectivity)\n",
        "    ))"
      ]
    },
    {
      "cell_type": "code",
      "execution_count": 49,
      "id": "28d392bc-b952-4117-a918-2d22aa4306d9",
      "metadata": {},
      "outputs": [],
      "source": [
        "print(user_reviews)"
      ]
    },
    {
      "cell_type": "code",
      "execution_count": 50,
      "id": "d1bfea6f-b791-470b-8299-c43d0f7414a9",
      "metadata": {},
      "outputs": [],
      "source": [
        "# Define mapping for computed polarity to sentiment\n",
        "\n",
        "def map_polarity_to_sentiment(polarity):\n",
        "    if polarity > 0:\n",
        "        return 'Positive'\n",
        "    elif polarity < 0:\n",
        "        return 'Negative'\n",
        "    else:\n",
        "        return 'Neutral'\n",
        "\n",
        "# Apply mapping\n",
        "user_reviews['Computed_Sentiment'] = user_reviews['Computed_Polarity'].apply(map_polarity_to_sentiment)"
      ]
    },
    {
      "cell_type": "code",
      "execution_count": 51,
      "id": "b09ce013-f3dc-4122-8a35-d464becfa512",
      "metadata": {},
      "outputs": [],
      "source": [
        "# Compare original and computed sentiment\n",
        "comparison = user_reviews[['Sentiment', 'Computed_Sentiment']].value_counts()\n",
        "print(comparison)"
      ]
    },
    {
      "cell_type": "code",
      "execution_count": 52,
      "id": "5a3ad5e7-39e2-41aa-9bd3-b0132e589bda",
      "metadata": {},
      "outputs": [],
      "source": [
        "# plotting scatterplot to compare original and computed sentiment polarity\n",
        "sns.scatterplot(data=user_reviews, x ='Sentiment_Polarity', y ='Computed_Polarity', hue ='Sentiment')\n",
        "plt.title(\"Comparison of Original and Computed Polarity\")\n",
        "plt.xlabel(\"Original Polarity\")\n",
        "plt.ylabel(\"Computed Polarity\")\n",
        "plt.show()"
      ]
    },
    {
      "cell_type": "code",
      "execution_count": 53,
      "id": "d6ee3b80-ff54-4604-97ae-cbf32fbaaa14",
      "metadata": {},
      "outputs": [],
      "source": [
        "# Save the dataset as a CSV file\n",
        "output_file = 'sentiment_analysis_comparison_results.csv'\n",
        "user_reviews.to_csv(output_file, index=False)\n",
        "\n",
        "print(f\"Sentiment analysis results saved to {output_file}\")"
      ]
    },
    {
      "cell_type": "code",
      "execution_count": 132,
      "id": "48ba5699-e0a2-4abf-a604-32616501505d",
      "metadata": {},
      "outputs": [],
      "source": [
        "# Count and plot sentiment distribution\n",
        "sentiment_counts = user_reviews['Sentiment'].value_counts()\n",
        "\n",
        "plt.figure(figsize=(8, 6))\n",
        "sns.barplot(x=sentiment_counts.index, y=sentiment_counts.values, palette='viridis', hue=sentiment_counts.index, legend=True)\n",
        "plt.title('Distribution of Sentiments', fontsize=16)\n",
        "plt.xlabel('Sentiment', fontsize=14)\n",
        "plt.ylabel('Count', fontsize=14)\n",
        "plt.show()"
      ]
    },
    {
      "cell_type": "code",
      "execution_count": 136,
      "id": "97ee66b5-e379-4b4f-b76e-404e432edd5b",
      "metadata": {},
      "outputs": [],
      "source": [
        "# Data Exploration: Polarity distribution\n",
        "plt.figure(figsize=(10, 6))\n",
        "sns.histplot(user_reviews['Sentiment_Polarity'], kde=True, bins=30, color='blue')\n",
        "plt.title('Distribution of Sentiment Polarity', fontsize=16)\n",
        "plt.xlabel('Sentiment Polarity', fontsize=14)\n",
        "plt.ylabel('Frequency', fontsize=14)\n",
        "plt.show()"
      ]
    },
    {
      "cell_type": "code",
      "execution_count": 138,
      "id": "45c1d68a-3e25-45e8-8b38-90be792c7893",
      "metadata": {},
      "outputs": [],
      "source": [
        "# Save the enhanced dataset\n",
        "user_reviews.to_csv('enhanced_dataset.csv', index=False)"
      ]
    },
    {
      "cell_type": "code",
      "execution_count": 140,
      "id": "a26c06c1-33ad-4847-b6e0-0a44b493806f",
      "metadata": {},
      "outputs": [],
      "source": [
        "# Calculate average polarity and subjectivity by app\n",
        "sentiment_summary = user_reviews.groupby('App').agg(\n",
        "    Avg_Polarity=('Sentiment_Polarity', 'mean'),\n",
        "    Avg_Subjectivity=('Sentiment_Subjectivity', 'mean')\n",
        ").reset_index()\n",
        "\n",
        "# Save for visualization in Power BI\n",
        "sentiment_summary.to_csv('sentiment_summary.csv', index=False)"
      ]
    },
    {
      "cell_type": "code",
      "execution_count": 142,
      "id": "29aaed98-3435-403c-80a4-648921990cc0",
      "metadata": {},
      "outputs": [],
      "source": [
        "top_positive_apps = sentiment_summary.nlargest(10, 'Avg_Polarity')\n",
        "top_negative_apps = sentiment_summary.nsmallest(10, 'Avg_Polarity')\n",
        "\n",
        "print(\"Top Positive Apps:\")\n",
        "print(top_positive_apps)\n",
        "\n",
        "print(\"\\nTop Negative Apps:\")\n",
        "print(top_negative_apps)"
      ]
    },
    {
      "cell_type": "code",
      "execution_count": 144,
      "id": "4748da63-ad94-4bcb-82c4-5093788ab861",
      "metadata": {},
      "outputs": [],
      "source": [
        "# Save for visualization in Power BI\n",
        "sentiment_summary.to_csv('sentiment_summary1.csv', index=False)"
      ]
    },
    {
      "cell_type": "code",
      "execution_count": null,
      "id": "46f963cc-97b1-4995-ac23-d6d12601725c",
      "metadata": {},
      "outputs": [],
      "source": []
    }
  ],
  "metadata": {
    "kernelspec": {
      "display_name": "Python [conda env:base] *",
      "language": "python",
      "name": "conda-base-py"
    },
    "language_info": {
      "codemirror_mode": {
        "name": "ipython",
        "version": 3
      },
      "file_extension": ".py",
      "mimetype": "text/x-python",
      "name": "python",
      "nbconvert_exporter": "python",
      "pygments_lexer": "ipython3",
      "version": "3.12.7"
    }
  },
  "nbformat": 4,
  "nbformat_minor": 5
}
